{
 "cells": [
  {
   "cell_type": "code",
   "execution_count": 2,
   "metadata": {},
   "outputs": [
    {
     "name": "stdout",
     "output_type": "stream",
     "text": [
      "I am Groot\n"
     ]
    }
   ],
   "source": [
    "class Fruit:\n",
    "    def __init__(self) -> None:\n",
    "        pass\n",
    "    \n",
    "    def __str__(self):\n",
    "        return \"I am Groot\"\n",
    "\n",
    "class Mango(Fruit):\n",
    "    def __init__(self) -> None:\n",
    "        super().__init__()\n",
    "        \n",
    "class Apple(Fruit):\n",
    "    def __init__(self) -> None:\n",
    "        super().__init__()\n",
    "    \n",
    "\n",
    "app = Apple()\n",
    "print(app)"
   ]
  },
  {
   "cell_type": "code",
   "execution_count": 8,
   "metadata": {},
   "outputs": [
    {
     "name": "stdout",
     "output_type": "stream",
     "text": [
      "Maker: Porshe\n",
      "Model: 911\tWheels: 8\n"
     ]
    }
   ],
   "source": [
    "class car:\n",
    "\n",
    "    wheels = 8\n",
    "\n",
    "    def __init__(self,maker,model) -> None:\n",
    "        self.maker = maker\n",
    "        self.model = model\n",
    "\n",
    "    def details(self) -> None:\n",
    "        print(f\"Maker: {self.maker}\\nModel: {self.model}\\tWheels: {self.wheels}\")\n",
    "\n",
    "yash = car(\"Porshe\",\"911\")\n",
    "yash.details()"
   ]
  },
  {
   "cell_type": "code",
   "execution_count": 4,
   "metadata": {},
   "outputs": [
    {
     "name": "stdout",
     "output_type": "stream",
     "text": [
      "Name:  Kritharth\n",
      "Age:  18\n",
      "18\n"
     ]
    }
   ],
   "source": [
    "class Shetty:\n",
    "    def __init__(self,name,age) -> None:\n",
    "        self.name = name\n",
    "        self.age = age\n",
    "        \n",
    "    def details(self) -> None:\n",
    "        print(\"Name: \",self.name)\n",
    "        print(\"Age: \",self.age)\n",
    "\n",
    "sh = Shetty(\"Kritharth\",18)\n",
    "sh.details()\n"
   ]
  },
  {
   "cell_type": "code",
   "execution_count": null,
   "metadata": {},
   "outputs": [],
   "source": [
    "#simple interest method\n",
    "def simple_interest(principal_amount, rate_of_interest,time):\n",
    "    return principal_amount*rate_of_interest*time/100\n",
    "\n",
    "#inputs\n",
    "principal_amount = int(input(\"Enter the Principal Amount:\"))\n",
    "rate_of_interest = int(input(\"Enter the Rate Of Interest:\"))\n",
    "time = int(input(\"Enter the Time Period:\"))\n",
    "\n",
    "#calling function\n",
    "print(simple_interest(principal_amount,rate_of_interest,time))\n",
    "\n"
   ]
  }
 ],
 "metadata": {
  "kernelspec": {
   "display_name": "base",
   "language": "python",
   "name": "python3"
  },
  "language_info": {
   "codemirror_mode": {
    "name": "ipython",
    "version": 3
   },
   "file_extension": ".py",
   "mimetype": "text/x-python",
   "name": "python",
   "nbconvert_exporter": "python",
   "pygments_lexer": "ipython3",
   "version": "3.12.4"
  }
 },
 "nbformat": 4,
 "nbformat_minor": 2
}
