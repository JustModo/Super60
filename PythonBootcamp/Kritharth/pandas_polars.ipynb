{
 "cells": [
  {
   "cell_type": "code",
   "execution_count": 9,
   "metadata": {},
   "outputs": [
    {
     "name": "stdout",
     "output_type": "stream",
     "text": [
      "   ID           Name\n",
      "0   1       John Doe\n",
      "1   2     Jane Smith\n",
      "2   3  Emily Johnson\n"
     ]
    }
   ],
   "source": [
    "import pandas as pd\n",
    "\n",
    "data_list_pd = [\n",
    "    [1, \"John Doe\"],\n",
    "    [2, \"Jane Smith\"],\n",
    "    [3, \"Emily Johnson\"]\n",
    "]\n",
    "\n",
    "# Create the DataFrame with specified column names.\n",
    "df = pd.DataFrame(data_list_pd, columns=[\"ID\", \"Name\"])\n",
    "\n",
    "print(df)\n"
   ]
  },
  {
   "cell_type": "code",
   "execution_count": 1,
   "metadata": {},
   "outputs": [
    {
     "name": "stdout",
     "output_type": "stream",
     "text": [
      "shape: (3, 2)\n",
      "┌─────┬───────────────┐\n",
      "│ ID  ┆ Name          │\n",
      "│ --- ┆ ---           │\n",
      "│ i64 ┆ str           │\n",
      "╞═════╪═══════════════╡\n",
      "│ 1   ┆ John Doe      │\n",
      "│ 2   ┆ Jane Smith    │\n",
      "│ 3   ┆ Emily Johnson │\n",
      "└─────┴───────────────┘\n"
     ]
    },
    {
     "name": "stderr",
     "output_type": "stream",
     "text": [
      "C:\\Users\\Kritharth shetty pc\\AppData\\Local\\Temp\\ipykernel_39084\\4149447020.py:8: DataOrientationWarning: Row orientation inferred during DataFrame construction. Explicitly specify the orientation by passing `orient=\"row\"` to silence this warning.\n",
      "  df = pl.DataFrame(data_list_pd, schema=[\"ID\", \"Name\"])\n"
     ]
    }
   ],
   "source": [
    "import polars as pl\n",
    "\n",
    "data_list_pd = [\n",
    "    [1, \"John Doe\"],\n",
    "    [2, \"Jane Smith\"],\n",
    "    [3, \"Emily Johnson\"]\n",
    "]\n",
    "df = pl.DataFrame(data_list_pd, schema=[\"ID\", \"Name\"])\n",
    "print(df)\n"
   ]
  },
  {
   "cell_type": "code",
   "execution_count": 3,
   "metadata": {},
   "outputs": [
    {
     "name": "stdout",
     "output_type": "stream",
     "text": [
      "       cars  passings\n",
      "0  Mercedes         2\n",
      "1  Maserati         5\n",
      "2   Porsche         7\n"
     ]
    }
   ],
   "source": [
    "import pandas as pd\n",
    "\n",
    "data_list_pd = {\n",
    "    'cars':[\"Mercedes\",\"Maserati\",\"Porsche\"],\n",
    "    'passings':[2,5,7]\n",
    "}\n",
    "my_var=pd.DataFrame(data_list_pd)\n",
    "print(my_var)"
   ]
  },
  {
   "cell_type": "code",
   "execution_count": 14,
   "metadata": {},
   "outputs": [
    {
     "name": "stdout",
     "output_type": "stream",
     "text": [
      "Rahul's total marks: 251\n",
      "Rahul's average marks: 83.67\n",
      "Chohith's total marks: 207\n",
      "Chohith's average marks: 69.00\n",
      "Laksh's total marks: 247\n",
      "Laksh's average marks: 82.33\n",
      "  Students  Maths  Science  English  Total_Marks  Average_Marks\n",
      "0    Rahul     91       90       70          251      83.666667\n",
      "1  Chohith     49       88       70          207      69.000000\n",
      "2    Laksh     80       97       70          247      82.333333\n"
     ]
    }
   ],
   "source": [
    "import pandas as pd\n",
    "\n",
    "student_data = {\n",
    "    \"Students\": [\"Rahul\", \"Chohith\", \"Laksh\"],\n",
    "    \"Maths\": [91, 49, 80],\n",
    "    \"Science\": [90, 88, 97],\n",
    "    \"English\": [70, 70, 70]\n",
    "}\n",
    "\n",
    "def calculate_total_marks(student_data):\n",
    "    total_marks = []\n",
    "    for i in range(len(student_data['Students'])):\n",
    "        total = student_data['Maths'][i] + student_data['Science'][i] + student_data['English'][i]\n",
    "        total_marks.append(total)\n",
    "    return total_marks\n",
    "\n",
    "def calculate_average_marks(student_data):\n",
    "    total_marks = calculate_total_marks(student_data)\n",
    "    average_marks = [total / 3 for total in total_marks]\n",
    "    return average_marks\n",
    "\n",
    "# Calculate total and average marks using functions\n",
    "total_marks = calculate_total_marks(student_data)\n",
    "average_marks = calculate_average_marks(student_data)\n",
    "\n",
    "# Print the results\n",
    "for i in range(len(student_data['Students'])):\n",
    "    print(f\"{student_data['Students'][i]}'s total marks: {total_marks[i]}\")\n",
    "    print(f\"{student_data['Students'][i]}'s average marks: {average_marks[i]:.2f}\")\n",
    "\n",
    "# Alternatively, using Pandas DataFrame\n",
    "df = pd.DataFrame(student_data)\n",
    "df['Total_Marks'] = df['Maths'] + df['Science'] + df['English']\n",
    "df['Average_Marks'] = df['Total_Marks'] / 3\n",
    "print(df)"
   ]
  }
 ],
 "metadata": {
  "kernelspec": {
   "display_name": "Python 3",
   "language": "python",
   "name": "python3"
  },
  "language_info": {
   "codemirror_mode": {
    "name": "ipython",
    "version": 3
   },
   "file_extension": ".py",
   "mimetype": "text/x-python",
   "name": "python",
   "nbconvert_exporter": "python",
   "pygments_lexer": "ipython3",
   "version": "3.12.6"
  }
 },
 "nbformat": 4,
 "nbformat_minor": 2
}
