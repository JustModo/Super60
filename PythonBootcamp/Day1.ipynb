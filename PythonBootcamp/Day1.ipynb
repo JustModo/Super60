{
 "cells": [
  {
   "cell_type": "code",
   "execution_count": 4,
   "metadata": {},
   "outputs": [
    {
     "name": "stdout",
     "output_type": "stream",
     "text": [
      "Simple Intrest 1440.0\n"
     ]
    }
   ],
   "source": [
    "# Calculate simple interest\n",
    "def calculate_simple_intrest(principal,time,interest):\n",
    "    return principal*time*interest / 100\n",
    "\n",
    "principal_amount = int(input(\"Enter principle: \"))\n",
    "time_period = int(input(\"Enter time period: \"))\n",
    "rate_of_intrest = int(input(\"Rate of interest: \"))\n",
    "\n",
    "SI = calculate_simple_intrest(principal_amount,time_period,rate_of_intrest)\n",
    "\n",
    "print(f\"Simple Intrest {str(SI)}\")\n",
    "\n"
   ]
  },
  {
   "cell_type": "code",
   "execution_count": 4,
   "metadata": {},
   "outputs": [
    {
     "name": "stdout",
     "output_type": "stream",
     "text": [
      "Report Card\n",
      "Name: Yash\n",
      "Avg: 48.666666666666664\n",
      "Total: 146\n",
      "Rank: Pass\n"
     ]
    }
   ],
   "source": [
    "# Write the code to accept a student's name and scores in three subject.\n",
    "# Display the average and total.\n",
    "# Display whether the student has secured 1st, 2nd, pass class or has failed.\n",
    "# 1st class is for a score of 60 and above, 2nd is for a score of 50 and above,\n",
    "# while pass class is for a score of 35 and above. If the score is less than 35,then the student fails.\n",
    "\n",
    "def print_report(name:str,average:float,total:int)-> None:\n",
    "    print(\"Report Card\")\n",
    "    print(f\"Name: {name}\")\n",
    "    print(f\"Avg: {average}\")\n",
    "    print(f\"Total: {total}\")\n",
    "    print(f\"Rank: {get_rank(average)}\")\n",
    "    \n",
    "def get_rank(marks):\n",
    "    if(marks>=60):\n",
    "        return \"1st\"\n",
    "    elif(marks>=50):\n",
    "        return \"2nd\"\n",
    "    elif(marks>=35):\n",
    "        return \"Pass\"\n",
    "    else:\n",
    "        return \"Fail\"\n",
    "\n",
    "def main():\n",
    "    name = input()\n",
    "    m1 = int(input())\n",
    "    m2 = int(input())\n",
    "    m3 = int(input())\n",
    "    total = m1+m2+m3\n",
    "    avg = total/3\n",
    "    print_report(name,avg,total)\n",
    "   \n",
    "main()"
   ]
  },
  {
   "cell_type": "code",
   "execution_count": null,
   "metadata": {},
   "outputs": [],
   "source": []
  }
 ],
 "metadata": {
  "kernelspec": {
   "display_name": "base",
   "language": "python",
   "name": "python3"
  },
  "language_info": {
   "codemirror_mode": {
    "name": "ipython",
    "version": 3
   },
   "file_extension": ".py",
   "mimetype": "text/x-python",
   "name": "python",
   "nbconvert_exporter": "python",
   "pygments_lexer": "ipython3",
   "version": "3.12.4"
  }
 },
 "nbformat": 4,
 "nbformat_minor": 2
}
