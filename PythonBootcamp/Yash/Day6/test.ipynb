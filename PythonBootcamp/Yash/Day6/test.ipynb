{
 "cells": [
  {
   "cell_type": "code",
   "execution_count": 2,
   "metadata": {},
   "outputs": [
    {
     "data": {
      "text/plain": [
       "['hr', 'ceo', 'dev']"
      ]
     },
     "execution_count": 2,
     "metadata": {},
     "output_type": "execute_result"
    }
   ],
   "source": [
    "stuff ={\n",
    "    \"hr\":\"i HR\",\n",
    "    \"ceo\":\"i ceo\",\n",
    "    \"dev\":\"i dev\",\n",
    "}\n",
    "\n",
    "list(stuff.keys())"
   ]
  },
  {
   "cell_type": "code",
   "execution_count": 3,
   "metadata": {},
   "outputs": [
    {
     "name": "stdout",
     "output_type": "stream",
     "text": [
      "Name Name1\n",
      "ID 1\n",
      "Name Name2\n",
      "ID 2\n"
     ]
    }
   ],
   "source": [
    "class Employee:\n",
    "    __count = 1\n",
    "\n",
    "    def __init__(self, name: str) -> None:\n",
    "        self.name = name\n",
    "        self.emp_id = Employee.__count\n",
    "        Employee.__count += 1\n",
    "\n",
    "    def show(self):\n",
    "        print(f\"Name {self.name}\")\n",
    "        print(f\"ID {self.emp_id}\")\n",
    "\n",
    "\n",
    "e1 = Employee(\"Name1\")\n",
    "e2 = Employee(\"Name2\")\n",
    "\n",
    "e1.show()\n",
    "e2.show()\n"
   ]
  },
  {
   "cell_type": "code",
   "execution_count": null,
   "metadata": {},
   "outputs": [],
   "source": []
  }
 ],
 "metadata": {
  "kernelspec": {
   "display_name": "base",
   "language": "python",
   "name": "python3"
  },
  "language_info": {
   "codemirror_mode": {
    "name": "ipython",
    "version": 3
   },
   "file_extension": ".py",
   "mimetype": "text/x-python",
   "name": "python",
   "nbconvert_exporter": "python",
   "pygments_lexer": "ipython3",
   "version": "3.12.4"
  }
 },
 "nbformat": 4,
 "nbformat_minor": 2
}
