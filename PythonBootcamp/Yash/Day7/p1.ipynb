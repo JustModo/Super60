{
 "cells": [
  {
   "cell_type": "markdown",
   "metadata": {},
   "source": [
    "Numpy - Numerical Python"
   ]
  },
  {
   "cell_type": "code",
   "execution_count": 26,
   "metadata": {},
   "outputs": [],
   "source": [
    "import numpy as np\n",
    "\n",
    "arr = np.array([5,3,2])"
   ]
  },
  {
   "cell_type": "code",
   "execution_count": 27,
   "metadata": {},
   "outputs": [
    {
     "data": {
      "text/plain": [
       "array([6, 4, 3])"
      ]
     },
     "execution_count": 27,
     "metadata": {},
     "output_type": "execute_result"
    }
   ],
   "source": [
    "arr+1"
   ]
  },
  {
   "cell_type": "code",
   "execution_count": 33,
   "metadata": {},
   "outputs": [
    {
     "data": {
      "text/plain": [
       "array([1, 2, 3, 4, 5])"
      ]
     },
     "execution_count": 33,
     "metadata": {},
     "output_type": "execute_result"
    }
   ],
   "source": [
    "arr1 = [1,2,3,4,5]\n",
    "narr = np.array(arr1,copy=False)"
   ]
  },
  {
   "cell_type": "markdown",
   "metadata": {},
   "source": [
    "Task I: Create a ID Numpy array 12 values for each month, name\n",
    "of the variable should be \"monthly_sales\""
   ]
  },
  {
   "cell_type": "code",
   "execution_count": 39,
   "metadata": {},
   "outputs": [],
   "source": [
    "monthly_sales = [5977,  231, 6574, 8963,  869, 2168,  112, 3722, 4009, 7620, 3533,\n",
    "       7427]\n",
    "arr = np.array(monthly_sales)"
   ]
  },
  {
   "cell_type": "markdown",
   "metadata": {},
   "source": [
    "Task 2: \n",
    "1 -Access and print the sales data for January (the first month)\n",
    "2. Accesss and print the data for December (the last month).\n"
   ]
  },
  {
   "cell_type": "code",
   "execution_count": 60,
   "metadata": {},
   "outputs": [
    {
     "name": "stdout",
     "output_type": "stream",
     "text": [
      "Jan Info 5977\n",
      "Dec info 7427\n"
     ]
    }
   ],
   "source": [
    "print(\"Jan Info\",arr[0])\n",
    "print(\"Dec info\",arr[-1])"
   ]
  },
  {
   "cell_type": "markdown",
   "metadata": {},
   "source": [
    "Task 3: 1. Extract and print the sales data for each quarter (QI, Q2, Q3, Q4)."
   ]
  },
  {
   "cell_type": "code",
   "execution_count": 61,
   "metadata": {},
   "outputs": [
    {
     "name": "stdout",
     "output_type": "stream",
     "text": [
      "Q1\n",
      "[5977  231 6574]\n",
      "Q2\n",
      "[8963  869 2168]\n",
      "Q3\n",
      "[ 112 3722 4009]\n",
      "Q4\n",
      "[7620 3533 7427]\n"
     ]
    }
   ],
   "source": [
    "print(\"Q1\")\n",
    "print(arr[:3])\n",
    "print(\"Q2\")\n",
    "print(arr[3:6])\n",
    "print(\"Q3\")\n",
    "print(arr[6:9])\n",
    "print(\"Q4\")\n",
    "print(arr[9:])"
   ]
  },
  {
   "cell_type": "code",
   "execution_count": null,
   "metadata": {},
   "outputs": [],
   "source": []
  }
 ],
 "metadata": {
  "kernelspec": {
   "display_name": "base",
   "language": "python",
   "name": "python3"
  },
  "language_info": {
   "codemirror_mode": {
    "name": "ipython",
    "version": 3
   },
   "file_extension": ".py",
   "mimetype": "text/x-python",
   "name": "python",
   "nbconvert_exporter": "python",
   "pygments_lexer": "ipython3",
   "version": "3.12.4"
  }
 },
 "nbformat": 4,
 "nbformat_minor": 2
}
