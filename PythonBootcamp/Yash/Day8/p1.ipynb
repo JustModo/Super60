{
 "cells": [
  {
   "cell_type": "markdown",
   "metadata": {},
   "source": [
    "LAB\n",
    "1 . Create a Multidimensional Array\n",
    "2. Access the 2nd element in the Array\n",
    "3. Access the 3rd element inside the 2nd Array"
   ]
  },
  {
   "cell_type": "code",
   "execution_count": 7,
   "metadata": {},
   "outputs": [
    {
     "data": {
      "text/plain": [
       "4"
      ]
     },
     "execution_count": 7,
     "metadata": {},
     "output_type": "execute_result"
    }
   ],
   "source": [
    "import numpy as np\n",
    "\n",
    "arr = np.array([[5,3,2],[7,3,4],[1,3,2]])\n",
    "arr[2][1]\n",
    "arr[1][2]"
   ]
  },
  {
   "cell_type": "code",
   "execution_count": 8,
   "metadata": {},
   "outputs": [
    {
     "data": {
      "text/plain": [
       "array([1, 2, 3, 4, 5])"
      ]
     },
     "execution_count": 8,
     "metadata": {},
     "output_type": "execute_result"
    }
   ],
   "source": [
    "arr = np.array([1,2,3,4,5,6,7,8,9,1,2,3,4,5,6,7,8])\n",
    "arr[:5]"
   ]
  },
  {
   "cell_type": "markdown",
   "metadata": {},
   "source": [
    "I. Create Montly Revenue array\n",
    "2. Enter 12 elements\n",
    "3. slice last 4 elements in that array"
   ]
  },
  {
   "cell_type": "code",
   "execution_count": 11,
   "metadata": {},
   "outputs": [
    {
     "data": {
      "text/plain": [
       "[987, 678, 443, 123]"
      ]
     },
     "execution_count": 11,
     "metadata": {},
     "output_type": "execute_result"
    }
   ],
   "source": [
    "monthly_revenue = [123,324,463,686,423,999,535,333,987,678,443,123]\n",
    "monthly_revenue[-4:]"
   ]
  },
  {
   "cell_type": "code",
   "execution_count": 20,
   "metadata": {},
   "outputs": [
    {
     "name": "stdout",
     "output_type": "stream",
     "text": [
      "[123, 123]\n"
     ]
    }
   ],
   "source": [
    "stop = 200\n",
    "np.mean(monthly_revenue)\n",
    "print([revenue for revenue in monthly_revenue if revenue < stop])"
   ]
  },
  {
   "cell_type": "markdown",
   "metadata": {},
   "source": [
    "1. Create Monthly_Sales Numpy array\n",
    "2. Add values for each month\n",
    "3. Modify the Data entry for the Month of April\n",
    "4. Extract and print the sales data for the summer months (June, July, August)\n",
    "5. Calculate and print the average sales for the summer months\n",
    "6. Calculate the average monthly sales for the entire year\n",
    "7. Identify and print the months where the sales were above average"
   ]
  },
  {
   "cell_type": "code",
   "execution_count": 31,
   "metadata": {},
   "outputs": [
    {
     "name": "stdout",
     "output_type": "stream",
     "text": [
      "[431 277 382 415 321 116 355 419 255 466 235 139]\n",
      "[116 355 419]\n",
      "296.6666666666667\n",
      "[431 382 321 355 419 466]\n"
     ]
    }
   ],
   "source": [
    "import random \n",
    "monthly_revenue = np.array([],dtype=int)\n",
    "\n",
    "for i in range(0,12):\n",
    "    num = random.randint(100,500)\n",
    "    monthly_revenue = np.append(monthly_revenue, num)\n",
    "    \n",
    "print(monthly_revenue)\n",
    "monthly_revenue[3] =100\n",
    "\n",
    "print(monthly_revenue[5:8])\n",
    "\n",
    "print(np.mean(monthly_revenue[5:8]))\n",
    "\n",
    "avg = np.mean(monthly_revenue)\n",
    "\n",
    "print(monthly_revenue[monthly_revenue > avg])\n",
    "   "
   ]
  },
  {
   "cell_type": "code",
   "execution_count": null,
   "metadata": {},
   "outputs": [],
   "source": []
  }
 ],
 "metadata": {
  "kernelspec": {
   "display_name": "base",
   "language": "python",
   "name": "python3"
  },
  "language_info": {
   "codemirror_mode": {
    "name": "ipython",
    "version": 3
   },
   "file_extension": ".py",
   "mimetype": "text/x-python",
   "name": "python",
   "nbconvert_exporter": "python",
   "pygments_lexer": "ipython3",
   "version": "3.12.4"
  }
 },
 "nbformat": 4,
 "nbformat_minor": 2
}
